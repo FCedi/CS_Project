{
 "cells": [
  {
   "cell_type": "code",
   "execution_count": null,
   "id": "79f086fb",
   "metadata": {},
   "outputs": [],
   "source": [
    "Use this File to test Code localy"
   ]
  },
  {
   "cell_type": "code",
   "execution_count": null,
   "id": "1abb408e",
   "metadata": {},
   "outputs": [],
   "source": []
  }
 ],
 "metadata": {
  "language_info": {
   "name": "python"
  }
 },
 "nbformat": 4,
 "nbformat_minor": 5
}
