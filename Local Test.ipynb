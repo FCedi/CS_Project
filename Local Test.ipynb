{
 "cells": [
  {
   "cell_type": "markdown",
   "id": "79f086fb",
   "metadata": {},
   "source": [
    "# Local Test\n",
    "\n",
    "Use this File to test your code localy by creating a new code block and test the outcome.\n",
    "\n",
    "Afterwards you can add it to the respective .py file to run it on streamlit"
   ]
  },
  {
   "cell_type": "code",
   "execution_count": 1,
   "id": "1abb408e",
   "metadata": {},
   "outputs": [
    {
     "name": "stdout",
     "output_type": "stream",
     "text": [
      "Test your code here\n"
     ]
    }
   ],
   "source": [
    "print(\"Test your code here\")"
   ]
  }
 ],
 "metadata": {
  "kernelspec": {
   "display_name": "streamlitenv",
   "language": "python",
   "name": "python3"
  },
  "language_info": {
   "codemirror_mode": {
    "name": "ipython",
    "version": 3
   },
   "file_extension": ".py",
   "mimetype": "text/x-python",
   "name": "python",
   "nbconvert_exporter": "python",
   "pygments_lexer": "ipython3",
   "version": "3.12.9"
  }
 },
 "nbformat": 4,
 "nbformat_minor": 5
}
